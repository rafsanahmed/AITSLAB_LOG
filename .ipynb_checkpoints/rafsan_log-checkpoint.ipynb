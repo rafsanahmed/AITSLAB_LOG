{
 "cells": [
  {
   "cell_type": "markdown",
   "metadata": {},
   "source": [
    "# This notebook is used to create a log of tasks"
   ]
  },
  {
   "cell_type": "markdown",
   "metadata": {},
   "source": [
    "# October 2020"
   ]
  },
  {
   "cell_type": "markdown",
   "metadata": {},
   "source": [
    "---"
   ]
  },
  {
   "cell_type": "markdown",
   "metadata": {},
   "source": [
    "# 5th October, 2020\n",
    "---\n",
    "### Project\n",
    "Image Blur\n",
    "\n",
    "### Aim\n",
    "Read Jon's Masters thesis and create a plan for the project. Use available resources, such as the michigan tech DL lectures on youtube.\n",
    "\n",
    "### Description\n",
    "Gained some understanding into the project. The project revolves around classification between focused vs unfocused genome wide screen. Continuing lectures.\n",
    "\n",
    "### Next Steps\n",
    "Create a classifier for blurred images using the dataset from https://bbbc.broadinstitute.org/BBBC006\n"
   ]
  },
  {
   "cell_type": "markdown",
   "metadata": {},
   "source": []
  },
  {
   "cell_type": "markdown",
   "metadata": {},
   "source": [
    "# 6th October, 2020\n",
    "---\n",
    "### Project\n",
    "IMAGE Blur\n",
    "\n",
    "### Aim\n",
    "Start developing a model\n",
    "\n",
    "### Description\n",
    "Downloaded images from broad institute. Inspected them. Looked particularly on the planes 15,16 and 17 for focused images and 0,1 and 31 for unfocused images. Considering such planes are expected to give a proper classification among focused and blurred images.\n",
    "\n",
    "Looked at basic CNN structures\n",
    "\n",
    "### Next Steps\n",
    "Create a classifier for blurred images using the dataset from https://bbbc.broadinstitute.org/BBBC006\n"
   ]
  },
  {
   "cell_type": "markdown",
   "metadata": {},
   "source": [
    "# 13th October, 2020\n",
    "---\n",
    "### Project\n",
    "IMAGE Blur\n",
    "\n",
    "### Aim\n",
    "Finalize models\n",
    "\n",
    "### Description\n",
    "Created 3 different models. One with simple vgg block, one with three vgg blocks with dropout and on with vgg 16 transfer learning. The first ones gave 48-50% accuracy where transfer learning gave 72% accuracy\n",
    "\n",
    "### Next Steps\n",
    "Try to fine tune basee models"
   ]
  },
  {
   "cell_type": "markdown",
   "metadata": {},
   "source": [
    "# 20th October, 2020\n",
    "---\n",
    "### Project\n",
    "IMAGE Blur\n",
    "\n",
    "### Aim\n",
    "Fine tune model\n",
    "\n",
    "### Description\n",
    "Try adam optimizer, adaptive learning rate. No improvement\n",
    "\n",
    "### Next Steps\n",
    "Try resnet and unet"
   ]
  },
  {
   "cell_type": "markdown",
   "metadata": {},
   "source": [
    "# 23th October, 2020\n",
    "---\n",
    "### Project\n",
    "NLP - pipeline\n",
    "\n",
    "### Aim\n",
    "Cover some basics about NLP\n",
    "\n",
    "### Description\n",
    "Go through terms like NER, tokenization, lemmatization etc\n",
    "\n",
    "### Next Steps\n",
    "Apply NER to models"
   ]
  },
  {
   "cell_type": "markdown",
   "metadata": {},
   "source": [
    "# 28th October, 2020\n",
    "---\n",
    "### Project\n",
    "NLP - pipeline\n",
    "\n",
    "### Aim\n",
    "Attend NLP workshop\n",
    "\n",
    "### Description\n",
    "NLP workshop given by Johan frid. Was not that useful.\n",
    "\n",
    "### Next Steps\n",
    "Apply NER to models"
   ]
  },
  {
   "cell_type": "markdown",
   "metadata": {},
   "source": [
    "# 2nd November 2020\n",
    "---\n",
    "### Project\n",
    "Astrazeneca Challenge - Image Segmentation\n",
    "\n",
    "### Aim\n",
    "UNET models\n",
    "\n",
    "### Description\n",
    "Look into how unet models work.\n",
    "\n",
    "### Next Steps\n",
    "Unet on LUNARC"
   ]
  },
  {
   "cell_type": "markdown",
   "metadata": {},
   "source": [
    "# 4th November 2020\n",
    "---\n",
    "### Project\n",
    "Astrazeneca Challenge - Image Segmentation\n",
    "\n",
    "### Aim\n",
    "Malou's Unet code\n",
    "\n",
    "### Description\n",
    "Look into Malou's code and tried running. Pre-processing worked but training gave dependency issues.\n",
    "\n",
    "### Next Steps\n",
    "Fix issues"
   ]
  },
  {
   "cell_type": "markdown",
   "metadata": {},
   "source": [
    "# 5th November 2020\n",
    "---\n",
    "### Project\n",
    "Astrazeneca Challenge - Image Segmentation\n",
    "\n",
    "### Aim\n",
    "Malou's Unet code on LUNARC\n",
    "\n",
    "### Description\n",
    "Get LUNARC access. Tried running scripts there but have dependency issues.\n",
    "\n",
    "### Next Steps\n",
    "Fix issues"
   ]
  },
  {
   "cell_type": "markdown",
   "metadata": {},
   "source": [
    "# 9th November 2020\n",
    "---\n",
    "### Project\n",
    "Astrazeneca Challenge - Image Segmentation\n",
    "\n",
    "### Aim\n",
    "Setup kebnekaise and also use openvpn to access the server\n",
    "\n",
    "### Description\n",
    "Set up Kebnekaise using the following steps:\n",
    "\n",
    "1. Request a user account from SNIC -> HPC2N. The SNIC account was created before.\n",
    "2. Using the login information sent by Kebnekaise personnel (took 2 days), open kebnekaise server using SSH. Since I am using windows, putty was used to run terminal commands. A detailed description is provided in: https://www.hpc2n.umu.se/quickstart\n",
    "3. Once gained access, change the password.\n",
    "4. Now kebnekaise is accessible either through thinLinc or SSH. The server ID is: kebnekaise.hpc2n.umu.se. Note for Lunarc it is aurora.lunarc.lu.se\n",
    "\n",
    "### Results/Conclusion\n",
    "Have access to Kebnekaise now\n",
    "\n",
    "### Next Steps\n",
    "FIX openVPN issues."
   ]
  },
  {
   "cell_type": "markdown",
   "metadata": {},
   "source": [
    "# 12th November 2020\n",
    "---\n",
    "### Project\n",
    "Astrazeneca Challenge - Image Segmentation\n",
    "\n",
    "### Aim\n",
    "Work on pre-trined models on unet\n",
    "\n",
    "### Description\n",
    "Looked into inception v3 on unet. Aim to implement a simple unet model. Try running scripts on server.\n",
    "\n",
    "### Results/Conclusion\n",
    "Inception v3 appeared tricky to be run on Unet. I couldn't figure out how to use skip connections with pre-trained weights from Inception to Unet\n",
    "\n",
    "### Next Steps\n",
    "Read up on Unet and pre-trained models. Later, implement model with Malou's code"
   ]
  },
  {
   "cell_type": "markdown",
   "metadata": {
    "collapsed": true
   },
   "source": [
    "# 13th November 2020\n",
    "---\n",
    "### Project\n",
    "Astrazeneca Challenge - Image Segmentation\n",
    "\n",
    "### Aim\n",
    "Work on pre-trined models on unet\n",
    "\n",
    "### Description\n",
    "Attempted running Kaggle Carvana colab notebook with VGG16. https://colab.research.google.com/github/MarkDaoust/models/blob/segmentation_blogpost/samples/outreach/blogs/segmentation_blogpost/image_segmentation.ipynb\n",
    "\n",
    "### Results/Conclusion\n",
    "Similar to inception, it was unsuccessfull. The colab notebook gave several errors with the image dataset. Need to build something from scratch\n",
    "\n",
    "### Next Steps\n",
    "Continue Implementation"
   ]
  },
  {
   "cell_type": "markdown",
   "metadata": {},
   "source": [
    "# 14th November 2020\n",
    "---\n",
    "### Project\n",
    "Astrazeneca Challenge - Image Segmentation\n",
    "\n",
    "### Aim\n",
    "Adapted Alexandro's tile script to generate 256x256 tiles as inputs for Malou's unet model.\n",
    "\n",
    "### Description\n",
    "Hardcoded the script to create 256x256 tiles. However, I detected several blank tiles when inspecting results.\n",
    "\n",
    "### Next Steps\n",
    "__"
   ]
  },
  {
   "cell_type": "markdown",
   "metadata": {},
   "source": [
    "# 15th November 2020\n",
    "---\n",
    "### Project\n",
    "Astrazeneca Challenge - Image Segmentation\n",
    "\n",
    "### Aim\n",
    "Summerize challenge and visualize UNET architecture\n",
    "\n",
    "### Description\n",
    "Assisted the team with several small tasks including writing a script for the visualization of the Unet architecture.\n",
    "Source:https://machinelearningmastery.com/visualize-deep-learning-neural-network-model-keras/\n",
    "Script location: \"shared_data/malou_model5/viz/viz.py\" on Lunarc\n",
    "\n",
    "### Results/Conclusion\n",
    "It was an interesting challenge. However, more work needs to be done to implement pre-trained models on unet.\n",
    "\n",
    "### Next Steps\n",
    "Continue with the project for implementing pre-trained model with Unet (Autoencoder)"
   ]
  },
  {
   "cell_type": "markdown",
   "metadata": {},
   "source": [
    "# 17th November 2020\n",
    "---\n",
    "### Project\n",
    "NLP - Pipeline\n",
    "\n",
    "### Aim\n",
    "Run Antton's code for NER. Test out the following models:\n",
    "1. NER_biobert-BC5CDRChem_Antton_1, \n",
    "2. NER_biobert-JNLPBA_Antton_1, \n",
    "3. NER_biobert-NCBIdisease_Antton_1\n",
    "\n",
    "### Description\n",
    "Antton's repo: \n",
    "\n",
    "### Next Steps\n",
    "___"
   ]
  },
  {
   "cell_type": "code",
   "execution_count": null,
   "metadata": {},
   "outputs": [],
   "source": []
  }
 ],
 "metadata": {
  "kernelspec": {
   "display_name": "Python 3",
   "language": "python",
   "name": "python3"
  },
  "language_info": {
   "codemirror_mode": {
    "name": "ipython",
    "version": 3
   },
   "file_extension": ".py",
   "mimetype": "text/x-python",
   "name": "python",
   "nbconvert_exporter": "python",
   "pygments_lexer": "ipython3",
   "version": "3.7.9"
  }
 },
 "nbformat": 4,
 "nbformat_minor": 2
}
