{
 "cells": [
  {
   "cell_type": "markdown",
   "metadata": {},
   "source": [
    "# This notebook is used to create a log of tasks"
   ]
  },
  {
   "cell_type": "markdown",
   "metadata": {},
   "source": [
    "# October 2020"
   ]
  },
  {
   "cell_type": "markdown",
   "metadata": {},
   "source": [
    "---"
   ]
  },
  {
   "cell_type": "markdown",
   "metadata": {},
   "source": [
    "# 5th October, 2020\n",
    "---\n",
    "### Project\n",
    "Image Blur\n",
    "\n",
    "### Aim\n",
    "Read Jon's Masters thesis and create a plan for the project. Use available resources, such as the michigan tech DL lectures on youtube.\n",
    "\n",
    "### Description\n",
    "Gained some understanding into the project. The project revolves around classification between focused vs unfocused genome wide screen. Continuing lectures.\n",
    "\n",
    "### Next Steps\n",
    "Create a classifier for blurred images using the dataset from https://bbbc.broadinstitute.org/BBBC006\n"
   ]
  },
  {
   "cell_type": "markdown",
   "metadata": {},
   "source": []
  },
  {
   "cell_type": "markdown",
   "metadata": {},
   "source": [
    "# 6th October, 2020\n",
    "---\n",
    "### Project\n",
    "IMAGE Blur\n",
    "\n",
    "### Aim\n",
    "Start developing a model\n",
    "\n",
    "### Description\n",
    "Downloaded images from broad institute. Inspected them. Looked at basic CNN structures\n",
    "\n",
    "### Next Steps\n",
    "Create a classifier for blurred images using the dataset from https://bbbc.broadinstitute.org/BBBC006\n"
   ]
  },
  {
   "cell_type": "markdown",
   "metadata": {},
   "source": [
    "# 13th October, 2020\n",
    "---\n",
    "### Project\n",
    "IMAGE Blur\n",
    "\n",
    "### Aim\n",
    "Finalize models\n",
    "\n",
    "### Description\n",
    "Created 3 different models. One with simple vgg block, one with three vgg blocks with dropout and on with vgg 16 transfer learning. The first ones gave 48-50% accuracy where transfer learning gave 72% accuracy\n",
    "\n",
    "### Next Steps\n",
    "Try to fine tune basee models"
   ]
  },
  {
   "cell_type": "markdown",
   "metadata": {},
   "source": [
    "# 20th October, 2020\n",
    "---\n",
    "### Project\n",
    "IMAGE Blur\n",
    "\n",
    "### Aim\n",
    "Fine tune model\n",
    "\n",
    "### Description\n",
    "Try adam optimizer, adaptive learning rate. No improvement\n",
    "\n",
    "### Next Steps\n",
    "Try resnet and unet"
   ]
  },
  {
   "cell_type": "markdown",
   "metadata": {},
   "source": [
    "# 23th October, 2020\n",
    "---\n",
    "### Project\n",
    "NLP - pipeline\n",
    "\n",
    "### Aim\n",
    "Cover some basics about NLP\n",
    "\n",
    "### Description\n",
    "Go through terms like NER, tokenization, lemmatization etc\n",
    "\n",
    "### Next Steps\n",
    "Apply NER to models"
   ]
  },
  {
   "cell_type": "markdown",
   "metadata": {},
   "source": [
    "# 28th October, 2020\n",
    "---\n",
    "### Project\n",
    "NLP - pipeline\n",
    "\n",
    "### Aim\n",
    "Attend NLP workshop\n",
    "\n",
    "### Description\n",
    "NLP workshop given by Johan frid. Was not that useful.\n",
    "\n",
    "### Next Steps\n",
    "Apply NER to models"
   ]
  },
  {
   "cell_type": "markdown",
   "metadata": {},
   "source": [
    "# 2nd November 2020\n",
    "---\n",
    "### Project\n",
    "Image-to-image translation\n",
    "\n",
    "### Aim\n",
    "UNET models\n",
    "\n",
    "### Description\n",
    "Look into how unet models work.\n",
    "\n",
    "### Next Steps\n",
    "Unet on LUNARC"
   ]
  },
  {
   "cell_type": "markdown",
   "metadata": {},
   "source": [
    "# 4th November 2020\n",
    "---\n",
    "### Project\n",
    "Image-to-image translation\n",
    "\n",
    "### Aim\n",
    "Malou's Unet code\n",
    "\n",
    "### Description\n",
    "Look into Malou's code and tried running. Pre-processing worked but training gave dependency issues.\n",
    "\n",
    "### Next Steps\n",
    "Fix issues"
   ]
  },
  {
   "cell_type": "markdown",
   "metadata": {},
   "source": [
    "# 5th November 2020\n",
    "---\n",
    "### Project\n",
    "Image-to-image translatio\n",
    "\n",
    "### Aim\n",
    "Malou's Unet code on LUNARC\n",
    "\n",
    "### Description\n",
    "Get LUNARC access. Tried running scripts there but have dependency issues.\n",
    "\n",
    "### Next Steps\n",
    "Fix issues"
   ]
  },
  {
   "cell_type": "markdown",
   "metadata": {},
   "source": [
    "# 9th November 2020\n",
    "---\n",
    "### Project\n",
    "Image-to-image translatio\n",
    "\n",
    "### Aim\n",
    "Setup kebnekaise\n",
    "\n",
    "### Description\n",
    "Set up Kebnekaise\n",
    "\n",
    "### Next Steps\n",
    ""
   ]
  },
  {
   "cell_type": "markdown",
   "metadata": {},
   "source": [
    "# 12th November 2020\n",
    "---\n",
    "### Project\n",
    "Image-to-image translatio\n",
    "\n",
    "### Aim\n",
    "Work on pre-trined models on unet\n",
    "\n",
    "### Description\n",
    "Looked into inception v3 on unet. Aim to implement a simple unet model. Try running scripts.\n",
    "\n",
    "### Next Steps\n",
    "Implement model with Malou's code"
   ]
  },
  {
   "cell_type": "markdown",
   "metadata": {
    "collapsed": true
   },
   "source": [
    "# 13th November 2020\n",
    "---\n",
    "### Project\n",
    "Image-to-image translation\n",
    "\n",
    "### Aim\n",
    "Work on pre-trined models on unet\n",
    "\n",
    "### Description\n",
    "Attempted running Kaggle Carvana colab notebook with VGG16. Was unsuccessfull.\n",
    "\n",
    "### Next Steps\n",
    "Continue Implementation"
   ]
  },
  {
   "cell_type": "markdown",
   "metadata": {},
   "source": [
    "# 14th November 2020\n",
    "---\n",
    "### Project\n",
    "Image-to-image translatio\n",
    "\n",
    "### Aim\n",
    "Work on Alexandro's tile script\n",
    "\n",
    "### Description\n",
    "Edited Alexandros tile script to generate 256x256 tiles. Detected several blank tiles when inspecting results.\n",
    "\n",
    "### Next Steps\n",
    "__"
   ]
  },
  {
   "cell_type": "markdown",
   "metadata": {},
   "source": [
    "# 15th November 2020\n",
    "---\n",
    "### Project\n",
    "Image-to-image translation\n",
    "\n",
    "### Aim\n",
    "Summerize challenge\n",
    "\n",
    "### Description\n",
    "Assisted with several small tasks including writing a script for the Unet architecture.\n",
    "\n",
    "### Next Steps\n",
    "Continue with the project for implementing pre-trained model with Unet"
   ]
  },
  {
   "cell_type": "markdown",
   "metadata": {},
   "source": [
    "# 17th November 2020\n",
    "---\n",
    "### Project\n",
    "NLP - Pipeline\n",
    "\n",
    "### Aim\n",
    "Run Antton's code ++\n",
    "\n",
    "### Description\n",
    "__\n",
    "\n",
    "### Next Steps\n",
    "___"
   ]
  }
 ],
 "metadata": {
  "kernelspec": {
   "display_name": "Python 3",
   "language": "python",
   "name": "python3"
  },
  "language_info": {
   "codemirror_mode": {
    "name": "ipython",
    "version": 3
   },
   "file_extension": ".py",
   "mimetype": "text/x-python",
   "name": "python",
   "nbconvert_exporter": "python",
   "pygments_lexer": "ipython3",
   "version": "3.7.9"
  }
 },
 "nbformat": 4,
 "nbformat_minor": 2
}
